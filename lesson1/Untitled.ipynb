{
 "cells": [
  {
   "cell_type": "code",
   "execution_count": null,
   "id": "b0844a0e-d842-4cda-828b-b039be835ce7",
   "metadata": {},
   "outputs": [],
   "source": [
    "תיאור: צרי מערך של 10 מספרים שלמים באקראי בין 1 ל-50. בדקי את גודל המערך, סוג הנתונים ומספר הממדים שלו."
   ]
  },
  {
   "cell_type": "code",
   "execution_count": null,
   "id": "a306c10a-08dd-4f3c-b79d-b4e66b6f7e95",
   "metadata": {},
   "outputs": [],
   "source": [
    "תיאור: צרי מערך דו-ממדי עם 2 שורות ו-5 עמודות של מספרים אקראיים בין 10 ל-100. בדקי את הצורה של המערך."
   ]
  },
  {
   "cell_type": "code",
   "execution_count": null,
   "id": "cd00e787-22a0-4438-8ddf-2d4d9baed0d1",
   "metadata": {},
   "outputs": [],
   "source": [
    "pip install numpy"
   ]
  },
  {
   "cell_type": "code",
   "execution_count": 3,
   "id": "096c5cfc-3606-4cac-a2e9-bfb65bd368bd",
   "metadata": {},
   "outputs": [],
   "source": [
    "import numpy as np"
   ]
  },
  {
   "cell_type": "code",
   "execution_count": 8,
   "id": "f2981a28-a3df-4948-91d1-0211993fb11f",
   "metadata": {},
   "outputs": [],
   "source": [
    "array = np.random.randint( 1, 50 , size=(10))"
   ]
  },
  {
   "cell_type": "code",
   "execution_count": 9,
   "id": "5ca3b6ee-2fcf-44cb-a9f3-889c6b7d51f8",
   "metadata": {},
   "outputs": [
    {
     "data": {
      "text/plain": [
       "array([ 1, 14, 25, 20, 48, 20, 34, 21,  9,  3])"
      ]
     },
     "execution_count": 9,
     "metadata": {},
     "output_type": "execute_result"
    }
   ],
   "source": [
    "array"
   ]
  },
  {
   "cell_type": "code",
   "execution_count": 10,
   "id": "7d2b85e5-8771-463c-99ea-aa23b5de9395",
   "metadata": {},
   "outputs": [
    {
     "data": {
      "text/plain": [
       "10"
      ]
     },
     "execution_count": 10,
     "metadata": {},
     "output_type": "execute_result"
    }
   ],
   "source": [
    "array.size"
   ]
  },
  {
   "cell_type": "code",
   "execution_count": 11,
   "id": "75b0127f-5876-4624-b3b8-aaa93ad5db1f",
   "metadata": {},
   "outputs": [
    {
     "ename": "AttributeError",
     "evalue": "'numpy.ndarray' object has no attribute 'type'",
     "output_type": "error",
     "traceback": [
      "\u001b[1;31m---------------------------------------------------------------------------\u001b[0m",
      "\u001b[1;31mAttributeError\u001b[0m                            Traceback (most recent call last)",
      "Cell \u001b[1;32mIn[11], line 1\u001b[0m\n\u001b[1;32m----> 1\u001b[0m \u001b[43marray\u001b[49m\u001b[38;5;241;43m.\u001b[39;49m\u001b[43mtype\u001b[49m\n",
      "\u001b[1;31mAttributeError\u001b[0m: 'numpy.ndarray' object has no attribute 'type'"
     ]
    }
   ],
   "source": [
    "array.type"
   ]
  },
  {
   "cell_type": "code",
   "execution_count": 12,
   "id": "c24c8d8e-b223-45b5-8144-914bb3908677",
   "metadata": {},
   "outputs": [
    {
     "data": {
      "text/plain": [
       "dtype('int32')"
      ]
     },
     "execution_count": 12,
     "metadata": {},
     "output_type": "execute_result"
    }
   ],
   "source": [
    "array.dtype"
   ]
  },
  {
   "cell_type": "code",
   "execution_count": 13,
   "id": "73327928-0ba8-446c-8b59-ad9160dfa6f3",
   "metadata": {},
   "outputs": [
    {
     "data": {
      "text/plain": [
       "1"
      ]
     },
     "execution_count": 13,
     "metadata": {},
     "output_type": "execute_result"
    }
   ],
   "source": [
    "np.ndim(array)"
   ]
  },
  {
   "cell_type": "code",
   "execution_count": 18,
   "id": "ce153813-0451-4f7c-9477-4e72c2236aa9",
   "metadata": {},
   "outputs": [
    {
     "data": {
      "text/plain": [
       "<function ndarray.mean>"
      ]
     },
     "execution_count": 18,
     "metadata": {},
     "output_type": "execute_result"
    }
   ],
   "source": [
    "array.mean"
   ]
  },
  {
   "cell_type": "code",
   "execution_count": 19,
   "id": "60358ae8-6162-4c43-814b-3fd0536cc435",
   "metadata": {},
   "outputs": [
    {
     "data": {
      "text/plain": [
       "19.5"
      ]
     },
     "execution_count": 19,
     "metadata": {},
     "output_type": "execute_result"
    }
   ],
   "source": [
    "np.mean(array)"
   ]
  },
  {
   "cell_type": "code",
   "execution_count": 23,
   "id": "6f793c25-8a39-4ad4-b427-34014b50fb54",
   "metadata": {},
   "outputs": [],
   "source": [
    "mat1 = np.random.randint(10,100, size=(3,3))"
   ]
  },
  {
   "cell_type": "code",
   "execution_count": 24,
   "id": "665142df-d470-427e-bb7a-07602ead26a7",
   "metadata": {},
   "outputs": [
    {
     "data": {
      "text/plain": [
       "array([[64, 42, 33],\n",
       "       [24, 37, 35],\n",
       "       [23, 21, 92]])"
      ]
     },
     "execution_count": 24,
     "metadata": {},
     "output_type": "execute_result"
    }
   ],
   "source": [
    "mat1"
   ]
  },
  {
   "cell_type": "code",
   "execution_count": 27,
   "id": "d590659e-3c2b-43b4-866f-2749c027ca3e",
   "metadata": {},
   "outputs": [],
   "source": [
    "mat = np.random.randint(10,100, size=(3,3))"
   ]
  },
  {
   "cell_type": "code",
   "execution_count": 14,
   "id": "785a9c93-4d65-4d89-bff0-84746cf1b2c1",
   "metadata": {},
   "outputs": [
    {
     "ename": "NameError",
     "evalue": "name 'mat' is not defined",
     "output_type": "error",
     "traceback": [
      "\u001b[1;31m---------------------------------------------------------------------------\u001b[0m",
      "\u001b[1;31mNameError\u001b[0m                                 Traceback (most recent call last)",
      "Cell \u001b[1;32mIn[14], line 1\u001b[0m\n\u001b[1;32m----> 1\u001b[0m \u001b[43mmat\u001b[49m\n",
      "\u001b[1;31mNameError\u001b[0m: name 'mat' is not defined"
     ]
    }
   ],
   "source": [
    "mat"
   ]
  },
  {
   "cell_type": "code",
   "execution_count": 20,
   "id": "18bb66b8-3b53-47d5-85fd-c259147125c3",
   "metadata": {},
   "outputs": [
    {
     "ename": "NameError",
     "evalue": "name 'mat1' is not defined",
     "output_type": "error",
     "traceback": [
      "\u001b[1;31m---------------------------------------------------------------------------\u001b[0m",
      "\u001b[1;31mNameError\u001b[0m                                 Traceback (most recent call last)",
      "Cell \u001b[1;32mIn[20], line 1\u001b[0m\n\u001b[1;32m----> 1\u001b[0m np\u001b[38;5;241m.\u001b[39madd(mat, \u001b[43mmat1\u001b[49m)\n",
      "\u001b[1;31mNameError\u001b[0m: name 'mat1' is not defined"
     ]
    }
   ],
   "source": [
    "np.add(mat, mat1)"
   ]
  },
  {
   "cell_type": "markdown",
   "id": "7f3e661e-7eed-4bf1-9532-db8d3727337f",
   "metadata": {},
   "source": [
    "mat"
   ]
  },
  {
   "cell_type": "code",
   "execution_count": 16,
   "id": "239425df-de31-41a7-b033-54eb44c3edc7",
   "metadata": {},
   "outputs": [
    {
     "data": {
      "text/plain": [
       "array([[91, 16, 42, 75, 78],\n",
       "       [21, 19, 32, 87, 52]])"
      ]
     },
     "execution_count": 16,
     "metadata": {},
     "output_type": "execute_result"
    }
   ],
   "source": [
    "mat"
   ]
  },
  {
   "cell_type": "code",
   "execution_count": 17,
   "id": "7b804f9f-64f0-4945-80aa-f080f7a00222",
   "metadata": {},
   "outputs": [
    {
     "data": {
      "text/plain": [
       "(2, 5)"
      ]
     },
     "execution_count": 17,
     "metadata": {},
     "output_type": "execute_result"
    }
   ],
   "source": [
    "mat.shape"
   ]
  },
  {
   "cell_type": "code",
   "execution_count": 25,
   "id": "39297ebe-62c3-454a-a186-e805f0b707c6",
   "metadata": {},
   "outputs": [
    {
     "ename": "ValueError",
     "evalue": "operands could not be broadcast together with shapes (2,5) (3,3) ",
     "output_type": "error",
     "traceback": [
      "\u001b[1;31m---------------------------------------------------------------------------\u001b[0m",
      "\u001b[1;31mValueError\u001b[0m                                Traceback (most recent call last)",
      "Cell \u001b[1;32mIn[25], line 1\u001b[0m\n\u001b[1;32m----> 1\u001b[0m \u001b[43mnp\u001b[49m\u001b[38;5;241;43m.\u001b[39;49m\u001b[43madd\u001b[49m\u001b[43m(\u001b[49m\u001b[43mmat\u001b[49m\u001b[43m,\u001b[49m\u001b[43m \u001b[49m\u001b[43mmat1\u001b[49m\u001b[43m)\u001b[49m\n",
      "\u001b[1;31mValueError\u001b[0m: operands could not be broadcast together with shapes (2,5) (3,3) "
     ]
    }
   ],
   "source": [
    "np.add(mat, mat1)"
   ]
  },
  {
   "cell_type": "code",
   "execution_count": 28,
   "id": "7fe1e308-6582-4e90-a1f7-a91ee6ca44cd",
   "metadata": {},
   "outputs": [
    {
     "data": {
      "text/plain": [
       "array([[129,  55,  76],\n",
       "       [ 68,  60,  48],\n",
       "       [ 61,  83, 148]])"
      ]
     },
     "execution_count": 28,
     "metadata": {},
     "output_type": "execute_result"
    }
   ],
   "source": [
    "np.add(mat, mat1)"
   ]
  },
  {
   "cell_type": "code",
   "execution_count": 29,
   "id": "206f8573-0feb-4583-9e2a-5b70b8bb17bf",
   "metadata": {},
   "outputs": [],
   "source": [
    "x = np.add(mat, mat1)"
   ]
  },
  {
   "cell_type": "code",
   "execution_count": 30,
   "id": "9e397808-a17c-429f-a233-0e75cff42c2a",
   "metadata": {},
   "outputs": [
    {
     "data": {
      "text/plain": [
       "<function ndarray.mean>"
      ]
     },
     "execution_count": 30,
     "metadata": {},
     "output_type": "execute_result"
    }
   ],
   "source": [
    "x.mean"
   ]
  },
  {
   "cell_type": "code",
   "execution_count": 31,
   "id": "f521687c-fe05-472b-915c-cb17de5d12f7",
   "metadata": {},
   "outputs": [
    {
     "data": {
      "text/plain": [
       "80.88888888888889"
      ]
     },
     "execution_count": 31,
     "metadata": {},
     "output_type": "execute_result"
    }
   ],
   "source": [
    "np.mean(x)"
   ]
  },
  {
   "cell_type": "code",
   "execution_count": 43,
   "id": "4047a98f-1d13-4093-afed-49ab738d2578",
   "metadata": {},
   "outputs": [],
   "source": [
    "array2 = np.random.randint(1, 100, size=(20))"
   ]
  },
  {
   "cell_type": "code",
   "execution_count": 44,
   "id": "9873c786-cf29-41f4-a8d7-ffcb03a83b96",
   "metadata": {},
   "outputs": [
    {
     "data": {
      "text/plain": [
       "array([97, 83, 52, 83,  3, 36, 88, 48, 37, 85, 71, 36, 44,  5, 75, 48, 32,\n",
       "       15, 32,  9])"
      ]
     },
     "execution_count": 44,
     "metadata": {},
     "output_type": "execute_result"
    }
   ],
   "source": [
    "array2"
   ]
  },
  {
   "cell_type": "code",
   "execution_count": 47,
   "id": "fd9bc3de-99b1-47f5-9c2c-1f6c4aed0a88",
   "metadata": {},
   "outputs": [],
   "source": [
    "filtered_arr = array2[array2>50]"
   ]
  },
  {
   "cell_type": "code",
   "execution_count": 48,
   "id": "987b7609-50fe-4a36-bd68-fdbba9a32424",
   "metadata": {},
   "outputs": [
    {
     "data": {
      "text/plain": [
       "array([97, 83, 52, 83, 88, 85, 71, 75])"
      ]
     },
     "execution_count": 48,
     "metadata": {},
     "output_type": "execute_result"
    }
   ],
   "source": [
    "filtered_arr"
   ]
  },
  {
   "cell_type": "code",
   "execution_count": 53,
   "id": "528790a8-837d-467d-8ee1-b3dcef9b18c8",
   "metadata": {},
   "outputs": [],
   "source": [
    "np.random.shuffle(array2)"
   ]
  },
  {
   "cell_type": "code",
   "execution_count": 54,
   "id": "9b33ba29-3781-4a86-850b-1c4f6f4f9477",
   "metadata": {},
   "outputs": [
    {
     "data": {
      "text/plain": [
       "array([75, 48, 88, 85, 32,  3, 15, 44, 83, 37, 97, 83,  5, 36, 71, 32, 36,\n",
       "       48,  9, 52])"
      ]
     },
     "execution_count": 54,
     "metadata": {},
     "output_type": "execute_result"
    }
   ],
   "source": [
    "array2"
   ]
  },
  {
   "cell_type": "code",
   "execution_count": null,
   "id": "613a3686-d542-45eb-9b23-8f9714687aa5",
   "metadata": {},
   "outputs": [],
   "source": []
  }
 ],
 "metadata": {
  "kernelspec": {
   "display_name": "Python 3 (ipykernel)",
   "language": "python",
   "name": "python3"
  },
  "language_info": {
   "codemirror_mode": {
    "name": "ipython",
    "version": 3
   },
   "file_extension": ".py",
   "mimetype": "text/x-python",
   "name": "python",
   "nbconvert_exporter": "python",
   "pygments_lexer": "ipython3",
   "version": "3.10.8"
  }
 },
 "nbformat": 4,
 "nbformat_minor": 5
}
