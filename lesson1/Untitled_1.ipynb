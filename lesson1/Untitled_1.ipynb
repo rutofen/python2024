{
 "cells": [
  {
   "cell_type": "code",
   "execution_count": null,
   "id": "b0844a0e-d842-4cda-828b-b039be835ce7",
   "metadata": {},
   "outputs": [],
   "source": [
    "תיאור: צרי מערך של 10 מספרים שלמים באקראי בין 1 ל-50. בדקי את גודל המערך, סוג הנתונים ומספר הממדים שלו."
   ]
  },
  {
   "cell_type": "code",
   "execution_count": null,
   "id": "a306c10a-08dd-4f3c-b79d-b4e66b6f7e95",
   "metadata": {},
   "outputs": [],
   "source": [
    "תיאור: צרי מערך דו-ממדי עם 2 שורות ו-5 עמודות של מספרים אקראיים בין 10 ל-100. בדקי את הצורה של המערך."
   ]
  },
  {
   "cell_type": "code",
   "execution_count": null,
   "id": "cd00e787-22a0-4438-8ddf-2d4d9baed0d1",
   "metadata": {},
   "outputs": [],
   "source": [
    "pip install numpy"
   ]
  },
  {
   "cell_type": "code",
   "execution_count": 3,
   "id": "096c5cfc-3606-4cac-a2e9-bfb65bd368bd",
   "metadata": {},
   "outputs": [],
   "source": [
    "import numpy as np"
   ]
  },
  {
   "cell_type": "code",
   "execution_count": 8,
   "id": "f2981a28-a3df-4948-91d1-0211993fb11f",
   "metadata": {},
   "outputs": [],
   "source": [
    "array = np.random.randint( 1, 50 , size=(10))"
   ]
  },
  {
   "cell_type": "code",
   "execution_count": 9,
   "id": "5ca3b6ee-2fcf-44cb-a9f3-889c6b7d51f8",
   "metadata": {},
   "outputs": [
    {
     "data": {
      "text/plain": [
       "array([ 1, 14, 25, 20, 48, 20, 34, 21,  9,  3])"
      ]
     },
     "execution_count": 9,
     "metadata": {},
     "output_type": "execute_result"
    }
   ],
   "source": [
    "array"
   ]
  },
  {
   "cell_type": "code",
   "execution_count": 10,
   "id": "7d2b85e5-8771-463c-99ea-aa23b5de9395",
   "metadata": {},
   "outputs": [
    {
     "data": {
      "text/plain": [
       "10"
      ]
     },
     "execution_count": 10,
     "metadata": {},
     "output_type": "execute_result"
    }
   ],
   "source": [
    "array.size"
   ]
  },
  {
   "cell_type": "code",
   "execution_count": 11,
   "id": "75b0127f-5876-4624-b3b8-aaa93ad5db1f",
   "metadata": {},
   "outputs": [
    {
     "ename": "AttributeError",
     "evalue": "'numpy.ndarray' object has no attribute 'type'",
     "output_type": "error",
     "traceback": [
      "\u001b[1;31m---------------------------------------------------------------------------\u001b[0m",
      "\u001b[1;31mAttributeError\u001b[0m                            Traceback (most recent call last)",
      "Cell \u001b[1;32mIn[11], line 1\u001b[0m\n\u001b[1;32m----> 1\u001b[0m \u001b[43marray\u001b[49m\u001b[38;5;241;43m.\u001b[39;49m\u001b[43mtype\u001b[49m\n",
      "\u001b[1;31mAttributeError\u001b[0m: 'numpy.ndarray' object has no attribute 'type'"
     ]
    }
   ],
   "source": [
    "array.type"
   ]
  },
  {
   "cell_type": "code",
   "execution_count": 12,
   "id": "c24c8d8e-b223-45b5-8144-914bb3908677",
   "metadata": {},
   "outputs": [
    {
     "data": {
      "text/plain": [
       "dtype('int32')"
      ]
     },
     "execution_count": 12,
     "metadata": {},
     "output_type": "execute_result"
    }
   ],
   "source": [
    "array.dtype"
   ]
  },
  {
   "cell_type": "code",
   "execution_count": 13,
   "id": "73327928-0ba8-446c-8b59-ad9160dfa6f3",
   "metadata": {},
   "outputs": [
    {
     "data": {
      "text/plain": [
       "1"
      ]
     },
     "execution_count": 13,
     "metadata": {},
     "output_type": "execute_result"
    }
   ],
   "source": [
    "np.ndim(array)"
   ]
  },
  {
   "cell_type": "code",
   "execution_count": 15,
   "id": "d590659e-3c2b-43b4-866f-2749c027ca3e",
   "metadata": {},
   "outputs": [],
   "source": [
    "mat = np.random.randint(10,100, size=(2,5))"
   ]
  },
  {
   "cell_type": "code",
   "execution_count": 14,
   "id": "785a9c93-4d65-4d89-bff0-84746cf1b2c1",
   "metadata": {},
   "outputs": [
    {
     "ename": "NameError",
     "evalue": "name 'mat' is not defined",
     "output_type": "error",
     "traceback": [
      "\u001b[1;31m---------------------------------------------------------------------------\u001b[0m",
      "\u001b[1;31mNameError\u001b[0m                                 Traceback (most recent call last)",
      "Cell \u001b[1;32mIn[14], line 1\u001b[0m\n\u001b[1;32m----> 1\u001b[0m \u001b[43mmat\u001b[49m\n",
      "\u001b[1;31mNameError\u001b[0m: name 'mat' is not defined"
     ]
    }
   ],
   "source": [
    "mat"
   ]
  },
  {
   "cell_type": "markdown",
   "id": "7f3e661e-7eed-4bf1-9532-db8d3727337f",
   "metadata": {},
   "source": [
    "mat"
   ]
  },
  {
   "cell_type": "code",
   "execution_count": 16,
   "id": "239425df-de31-41a7-b033-54eb44c3edc7",
   "metadata": {},
   "outputs": [
    {
     "data": {
      "text/plain": [
       "array([[91, 16, 42, 75, 78],\n",
       "       [21, 19, 32, 87, 52]])"
      ]
     },
     "execution_count": 16,
     "metadata": {},
     "output_type": "execute_result"
    }
   ],
   "source": [
    "mat"
   ]
  },
  {
   "cell_type": "code",
   "execution_count": 17,
   "id": "7b804f9f-64f0-4945-80aa-f080f7a00222",
   "metadata": {},
   "outputs": [
    {
     "data": {
      "text/plain": [
       "(2, 5)"
      ]
     },
     "execution_count": 17,
     "metadata": {},
     "output_type": "execute_result"
    }
   ],
   "source": [
    "mat.shape"
   ]
  },
  {
   "cell_type": "code",
   "execution_count": null,
   "id": "39297ebe-62c3-454a-a186-e805f0b707c6",
   "metadata": {},
   "outputs": [],
   "source": []
  }
 ],
 "metadata": {
  "kernelspec": {
   "display_name": "Python 3 (ipykernel)",
   "language": "python",
   "name": "python3"
  },
  "language_info": {
   "codemirror_mode": {
    "name": "ipython",
    "version": 3
   },
   "file_extension": ".py",
   "mimetype": "text/x-python",
   "name": "python",
   "nbconvert_exporter": "python",
   "pygments_lexer": "ipython3",
   "version": "3.10.8"
  }
 },
 "nbformat": 4,
 "nbformat_minor": 5
}
